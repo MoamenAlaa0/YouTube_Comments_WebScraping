{
 "cells": [
  {
   "cell_type": "code",
   "execution_count": 1,
   "id": "210a1e18",
   "metadata": {},
   "outputs": [],
   "source": [
    "from selenium import webdriver\n",
    "from selenium.webdriver.chrome.service import Service\n",
    "from selenium.webdriver.chrome.options import Options\n",
    "from webdriver_manager.chrome import ChromeDriverManager"
   ]
  },
  {
   "cell_type": "code",
   "execution_count": 2,
   "id": "c38e7fd3",
   "metadata": {},
   "outputs": [],
   "source": [
    "from bs4 import BeautifulSoup\n",
    "import time\n",
    "import pandas as pd"
   ]
  },
  {
   "cell_type": "code",
   "execution_count": 3,
   "id": "ef59d851",
   "metadata": {},
   "outputs": [],
   "source": [
    "url = \"https://www.youtube.com/watch?v=XQgXKtPSzUI\""
   ]
  },
  {
   "cell_type": "code",
   "execution_count": 4,
   "id": "bd197d2c",
   "metadata": {},
   "outputs": [],
   "source": [
    "option =  webdriver.ChromeOptions() \n",
    "option.add_argument(\"--headless\")\n",
    "driver = webdriver.Chrome(service = Service(ChromeDriverManager().install()), options=option)\n",
    "driver.maximize_window()\n",
    "driver.get(url)\n",
    "\n",
    "# https://stackoverflow.com/questions/51690101/why-execute-scriptreturn-docume\n",
    "last_height = driver.execute_script(\"return document.documentElement.scrollHeight\")\n",
    "\n",
    "# https://www.codegrepper.com/code-examples/python/how+to+scroll+to+the+end+of+the+page+in+selenium+python\n",
    "while True:\n",
    "    # Scroll down to bottom\n",
    "    driver.execute_script(\"window.scrollTo(0, \" + str(last_height) + \");\")\n",
    "    # Wait to load page\n",
    "    time.sleep(1)\n",
    "    # Calculate new scroll height and compare with last scroll height\n",
    "    new_height = driver.execute_script(\"return document.documentElement.scrollHeight\")\n",
    "    \n",
    "    if new_height == last_height:\n",
    "        break\n",
    "    last_height = new_height\n",
    "    \n",
    "soup = BeautifulSoup(driver.page_source, 'lxml')\n",
    "driver.quit()\n",
    "\n",
    "# https://stackoverflow.com/questions/38028384/beautifulsoup-difference-between-find-and-select\n",
    "title = soup.select_one('#container > h1').text\n",
    "\n",
    "comments = soup.select(\"#content > #content-text\")\n",
    "comment_list = [comment.text for comment in comments]"
   ]
  },
  {
   "cell_type": "code",
   "execution_count": 5,
   "id": "395033b4",
   "metadata": {},
   "outputs": [
    {
     "data": {
      "text/plain": [
       "'Intro to Web Scraping with Python and Beautiful Soup'"
      ]
     },
     "execution_count": 5,
     "metadata": {},
     "output_type": "execute_result"
    }
   ],
   "source": [
    "title"
   ]
  },
  {
   "cell_type": "code",
   "execution_count": 6,
   "id": "9dd2de59",
   "metadata": {},
   "outputs": [
    {
     "data": {
      "text/plain": [
       "'THIS IS AMAZING!!! Everything was very well-explained and instructed, I managed to get my first webscrape off an E-commerce site! Thanks so much, you have a loyal subscriber in me!\\n\\nPerhaps you could cover using time sleeps to avoid getting blacklisted by the websites we are scraping? And also how to scrape multiple pages in one go?'"
      ]
     },
     "execution_count": 6,
     "metadata": {},
     "output_type": "execute_result"
    }
   ],
   "source": [
    "comment_list[20]"
   ]
  },
  {
   "cell_type": "code",
   "execution_count": 7,
   "id": "bea50627",
   "metadata": {},
   "outputs": [
    {
     "data": {
      "text/plain": [
       "1384"
      ]
     },
     "execution_count": 7,
     "metadata": {},
     "output_type": "execute_result"
    }
   ],
   "source": [
    "len(comment_list)"
   ]
  },
  {
   "cell_type": "code",
   "execution_count": 8,
   "id": "dbe54651",
   "metadata": {},
   "outputs": [
    {
     "data": {
      "text/html": [
       "<div>\n",
       "<style scoped>\n",
       "    .dataframe tbody tr th:only-of-type {\n",
       "        vertical-align: middle;\n",
       "    }\n",
       "\n",
       "    .dataframe tbody tr th {\n",
       "        vertical-align: top;\n",
       "    }\n",
       "\n",
       "    .dataframe thead th {\n",
       "        text-align: right;\n",
       "    }\n",
       "</style>\n",
       "<table border=\"1\" class=\"dataframe\">\n",
       "  <thead>\n",
       "    <tr style=\"text-align: right;\">\n",
       "      <th></th>\n",
       "      <th>comments</th>\n",
       "    </tr>\n",
       "  </thead>\n",
       "  <tbody>\n",
       "    <tr>\n",
       "      <th>0</th>\n",
       "      <td>Hello everyone, find the updated version of th...</td>\n",
       "    </tr>\n",
       "    <tr>\n",
       "      <th>1</th>\n",
       "      <td>Table of Contents:\\n0:00   -   Introduction\\n1...</td>\n",
       "    </tr>\n",
       "    <tr>\n",
       "      <th>2</th>\n",
       "      <td>This was by far the best introduction to web s...</td>\n",
       "    </tr>\n",
       "    <tr>\n",
       "      <th>3</th>\n",
       "      <td>It's weird to think about it like that, but th...</td>\n",
       "    </tr>\n",
       "    <tr>\n",
       "      <th>4</th>\n",
       "      <td>MINOR SUGGESTION\\nAs of 10/03/2019, If you are...</td>\n",
       "    </tr>\n",
       "  </tbody>\n",
       "</table>\n",
       "</div>"
      ],
      "text/plain": [
       "                                            comments\n",
       "0  Hello everyone, find the updated version of th...\n",
       "1  Table of Contents:\\n0:00   -   Introduction\\n1...\n",
       "2  This was by far the best introduction to web s...\n",
       "3  It's weird to think about it like that, but th...\n",
       "4  MINOR SUGGESTION\\nAs of 10/03/2019, If you are..."
      ]
     },
     "execution_count": 8,
     "metadata": {},
     "output_type": "execute_result"
    }
   ],
   "source": [
    "data = pd.DataFrame({'comments': comment_list})\n",
    "data.to_csv('YouTube_WebScraping.csv', index = False)\n",
    "\n",
    "data.head()"
   ]
  }
 ],
 "metadata": {
  "kernelspec": {
   "display_name": "Python 3",
   "language": "python",
   "name": "python3"
  },
  "language_info": {
   "codemirror_mode": {
    "name": "ipython",
    "version": 3
   },
   "file_extension": ".py",
   "mimetype": "text/x-python",
   "name": "python",
   "nbconvert_exporter": "python",
   "pygments_lexer": "ipython3",
   "version": "3.8.8"
  }
 },
 "nbformat": 4,
 "nbformat_minor": 5
}
